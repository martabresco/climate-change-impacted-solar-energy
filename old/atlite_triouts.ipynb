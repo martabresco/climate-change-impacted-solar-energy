{
 "cells": [
  {
   "cell_type": "code",
   "execution_count": 1,
   "metadata": {},
   "outputs": [],
   "source": [
    "import atlite\n",
    "import logging\n",
    "from matplotlib import pyplot as plt\n",
    "import xarray as xr\n",
    "\n",
    "logging.basicConfig(level=logging.INFO)"
   ]
  },
  {
   "cell_type": "code",
   "execution_count": 2,
   "metadata": {},
   "outputs": [
    {
     "data": {
      "text/plain": [
       "array([[0.06154753, 0.06186805, 0.06204664, ..., 0.06269039, 0.06305207,\n",
       "        0.08755306],\n",
       "       [0.06164475, 0.06194799, 0.06232969, ..., 0.06199658, 0.06264339,\n",
       "        0.06340971],\n",
       "       [0.0619432 , 0.06226671, 0.06257688, ..., 0.06124246, 0.06204883,\n",
       "        0.06289638],\n",
       "       ...,\n",
       "       [0.        , 0.        , 0.        , ..., 0.        , 0.        ,\n",
       "        0.        ],\n",
       "       [0.        , 0.        , 0.        , ..., 0.        , 0.        ,\n",
       "        0.        ],\n",
       "       [0.        , 0.        , 0.        , ..., 0.        , 0.        ,\n",
       "        0.        ]], dtype=float32)"
      ]
     },
     "execution_count": 2,
     "metadata": {},
     "output_type": "execute_result"
    }
   ],
   "source": [
    "filename2=\"/groups/EXTREMES/cutouts/europe-2005-era5.nc\"\n",
    "ds2=xr.open_dataset(filename2)\n",
    "ds2.albedo.sel(time=\"2005-01-01T12:00:00\").values"
   ]
  },
  {
   "cell_type": "code",
   "execution_count": 4,
   "metadata": {},
   "outputs": [
    {
     "data": {
      "text/plain": [
       "array([[0.06314913, 0.0630699 , 0.06290308, ..., 0.06655905, 0.0667974 ,\n",
       "        0.0887883 ],\n",
       "       [0.06359862, 0.06348557, 0.06328273, ..., 0.06718858, 0.06739266,\n",
       "        0.06759333],\n",
       "       [0.06400012, 0.06393261, 0.06368764, ..., 0.06762583, 0.06774167,\n",
       "        0.06788089],\n",
       "       ...,\n",
       "       [1.        , 1.        , 1.        , ..., 1.        , 1.        ,\n",
       "        1.        ],\n",
       "       [1.        , 1.        , 1.        , ..., 1.        , 1.        ,\n",
       "        1.        ],\n",
       "       [1.        , 1.        , 1.        , ..., 1.        , 1.        ,\n",
       "        1.        ]], dtype=float32)"
      ]
     },
     "execution_count": 4,
     "metadata": {},
     "output_type": "execute_result"
    }
   ],
   "source": [
    "filename=\"/groups/EXTREMES/cutouts/europe-2000-era5.nc\"\n",
    "ds=xr.open_dataset(filename)\n",
    "ds.albedo.sel(time=\"2000-01-01T12:00:00\").values"
   ]
  },
  {
   "cell_type": "code",
   "execution_count": 10,
   "metadata": {},
   "outputs": [
    {
     "name": "stdout",
     "output_type": "stream",
     "text": [
      "<xarray.Dataset> Size: 20MB\n",
      "Dimensions:   (time: 2920, lat: 20, lon: 28)\n",
      "Coordinates:\n",
      "  * lon       (lon) float32 112B -28.12 -25.31 -22.5 -19.69 ... 42.19 45.0 47.81\n",
      "  * lat       (lat) float32 80B 20.93 23.72 26.51 29.3 ... 68.37 71.16 73.95\n",
      "  * time      (time) object 23kB 1990-01-01 01:30:00 ... 1990-12-31 22:30:00\n",
      "Data variables:\n",
      "    rsds      (time, lat, lon) float32 7MB ...\n",
      "    rsdsdiff  (time, lat, lon) float32 7MB ...\n",
      "    tas       (time, lat, lon) float32 7MB ...\n",
      "Attributes:\n",
      "    data_source:    Processed data from CMIP6 runs\n",
      "    experiment:     historical\n",
      "    source:         CanESM5\n",
      "    variant_label:  r1i1p2f1\n",
      "    data_written:   12/03/2025 14:04\n",
      "    module:         era5\n"
     ]
    }
   ],
   "source": [
    "# Define the geographic extent\n",
    "x_range = slice(-12, 35)\n",
    "y_range = slice(33, 72)\n",
    "\n",
    "# Hard-coded start and end dates for January 2008\n",
    "start_date = \"1990-01-01\"\n",
    "end_date = \"1990-12-31\"\n",
    "\n",
    "cutout_path = \"/groups/FutureWind/SFCRAD/CanESM5/historical/r1i1p2f1/rsds_rsdsdiff_tas_1990.nc\"\n",
    "ds=xr.open_dataset(cutout_path)\n",
    "ds.attrs['module'] = 'era5'\n",
    "print(ds)\n",
    "\n",
    "#%%\n",
    "\n",
    "# Load the cutout with the required parameters\n",
    "cutout = atlite.Cutout(\n",
    "    path=\"cutouts\",\n",
    "    module='era5',\n",
    "    x=ds.lon,\n",
    "    y=ds.lat,\n",
    "    time=ds.time,\n",
    "    data=ds\n",
    ")"
   ]
  },
  {
   "cell_type": "code",
   "execution_count": 11,
   "metadata": {},
   "outputs": [
    {
     "ename": "KeyError",
     "evalue": "None",
     "output_type": "error",
     "traceback": [
      "\u001b[0;31m---------------------------------------------------------------------------\u001b[0m",
      "\u001b[0;31mKeyError\u001b[0m                                  Traceback (most recent call last)",
      "Cell \u001b[0;32mIn[11], line 1\u001b[0m\n\u001b[0;32m----> 1\u001b[0m cutout \u001b[38;5;241m=\u001b[39m atlite\u001b[38;5;241m.\u001b[39mCutout(path\u001b[38;5;241m=\u001b[39mcutout_path)\n",
      "File \u001b[0;32m~/anaconda3/envs/atlite_cmip6_2025/lib/python3.13/site-packages/atlite/cutout.py:194\u001b[0m, in \u001b[0;36mCutout.__init__\u001b[0;34m(self, path, **cutoutparams)\u001b[0m\n\u001b[1;32m    192\u001b[0m \u001b[38;5;66;03m# Check compatibility of CRS\u001b[39;00m\n\u001b[1;32m    193\u001b[0m modules \u001b[38;5;241m=\u001b[39m atleast_1d(data\u001b[38;5;241m.\u001b[39mattrs\u001b[38;5;241m.\u001b[39mget(\u001b[38;5;124m\"\u001b[39m\u001b[38;5;124mmodule\u001b[39m\u001b[38;5;124m\"\u001b[39m))\n\u001b[0;32m--> 194\u001b[0m crs \u001b[38;5;241m=\u001b[39m \u001b[38;5;28mset\u001b[39m(CRS(datamodules[m]\u001b[38;5;241m.\u001b[39mcrs) \u001b[38;5;28;01mfor\u001b[39;00m m \u001b[38;5;129;01min\u001b[39;00m modules)\n\u001b[1;32m    195\u001b[0m \u001b[38;5;28;01massert\u001b[39;00m \u001b[38;5;28mlen\u001b[39m(crs) \u001b[38;5;241m==\u001b[39m \u001b[38;5;241m1\u001b[39m, \u001b[38;5;124mf\u001b[39m\u001b[38;5;124m\"\u001b[39m\u001b[38;5;124mCRS of \u001b[39m\u001b[38;5;132;01m{\u001b[39;00mmodule\u001b[38;5;132;01m}\u001b[39;00m\u001b[38;5;124m not compatible\u001b[39m\u001b[38;5;124m\"\u001b[39m\n\u001b[1;32m    197\u001b[0m \u001b[38;5;28mself\u001b[39m\u001b[38;5;241m.\u001b[39mpath \u001b[38;5;241m=\u001b[39m path\n",
      "File \u001b[0;32m~/anaconda3/envs/atlite_cmip6_2025/lib/python3.13/site-packages/atlite/cutout.py:194\u001b[0m, in \u001b[0;36m<genexpr>\u001b[0;34m(.0)\u001b[0m\n\u001b[1;32m    192\u001b[0m \u001b[38;5;66;03m# Check compatibility of CRS\u001b[39;00m\n\u001b[1;32m    193\u001b[0m modules \u001b[38;5;241m=\u001b[39m atleast_1d(data\u001b[38;5;241m.\u001b[39mattrs\u001b[38;5;241m.\u001b[39mget(\u001b[38;5;124m\"\u001b[39m\u001b[38;5;124mmodule\u001b[39m\u001b[38;5;124m\"\u001b[39m))\n\u001b[0;32m--> 194\u001b[0m crs \u001b[38;5;241m=\u001b[39m \u001b[38;5;28mset\u001b[39m(CRS(datamodules[m]\u001b[38;5;241m.\u001b[39mcrs) \u001b[38;5;28;01mfor\u001b[39;00m m \u001b[38;5;129;01min\u001b[39;00m modules)\n\u001b[1;32m    195\u001b[0m \u001b[38;5;28;01massert\u001b[39;00m \u001b[38;5;28mlen\u001b[39m(crs) \u001b[38;5;241m==\u001b[39m \u001b[38;5;241m1\u001b[39m, \u001b[38;5;124mf\u001b[39m\u001b[38;5;124m\"\u001b[39m\u001b[38;5;124mCRS of \u001b[39m\u001b[38;5;132;01m{\u001b[39;00mmodule\u001b[38;5;132;01m}\u001b[39;00m\u001b[38;5;124m not compatible\u001b[39m\u001b[38;5;124m\"\u001b[39m\n\u001b[1;32m    197\u001b[0m \u001b[38;5;28mself\u001b[39m\u001b[38;5;241m.\u001b[39mpath \u001b[38;5;241m=\u001b[39m path\n",
      "\u001b[0;31mKeyError\u001b[0m: None"
     ]
    }
   ],
   "source": [
    "cutout = atlite.Cutout(path=cutout_path)"
   ]
  },
  {
   "cell_type": "code",
   "execution_count": 6,
   "metadata": {},
   "outputs": [
    {
     "ename": "KeyError",
     "evalue": "'module'",
     "output_type": "error",
     "traceback": [
      "\u001b[0;31m---------------------------------------------------------------------------\u001b[0m",
      "\u001b[0;31mKeyError\u001b[0m                                  Traceback (most recent call last)",
      "Cell \u001b[0;32mIn[6], line 1\u001b[0m\n\u001b[0;32m----> 1\u001b[0m cutout\u001b[38;5;241m.\u001b[39mprepare()\n",
      "File \u001b[0;32m~/anaconda3/envs/atlite_cmip6_2025/lib/python3.13/site-packages/atlite/data.py:115\u001b[0m, in \u001b[0;36mmaybe_remove_tmpdir.<locals>.wrapper\u001b[0;34m(*args, **kwargs)\u001b[0m\n\u001b[1;32m    113\u001b[0m kwargs[\u001b[38;5;124m\"\u001b[39m\u001b[38;5;124mtmpdir\u001b[39m\u001b[38;5;124m\"\u001b[39m] \u001b[38;5;241m=\u001b[39m mkdtemp()\n\u001b[1;32m    114\u001b[0m \u001b[38;5;28;01mtry\u001b[39;00m:\n\u001b[0;32m--> 115\u001b[0m     res \u001b[38;5;241m=\u001b[39m func(\u001b[38;5;241m*\u001b[39margs, \u001b[38;5;241m*\u001b[39m\u001b[38;5;241m*\u001b[39mkwargs)\n\u001b[1;32m    116\u001b[0m \u001b[38;5;28;01mfinally\u001b[39;00m:\n\u001b[1;32m    117\u001b[0m     rmtree(kwargs[\u001b[38;5;124m\"\u001b[39m\u001b[38;5;124mtmpdir\u001b[39m\u001b[38;5;124m\"\u001b[39m])\n",
      "File \u001b[0;32m~/anaconda3/envs/atlite_cmip6_2025/lib/python3.13/site-packages/atlite/data.py:187\u001b[0m, in \u001b[0;36mcutout_prepare\u001b[0;34m(cutout, features, tmpdir, overwrite, compression, show_progress, dask_kwargs, monthly_requests, concurrent_requests)\u001b[0m\n\u001b[1;32m    184\u001b[0m \u001b[38;5;28;01mif\u001b[39;00m dask_kwargs \u001b[38;5;129;01mis\u001b[39;00m \u001b[38;5;28;01mNone\u001b[39;00m:\n\u001b[1;32m    185\u001b[0m     dask_kwargs \u001b[38;5;241m=\u001b[39m {}\n\u001b[0;32m--> 187\u001b[0m \u001b[38;5;28;01mif\u001b[39;00m cutout\u001b[38;5;241m.\u001b[39mprepared \u001b[38;5;129;01mand\u001b[39;00m \u001b[38;5;129;01mnot\u001b[39;00m overwrite:\n\u001b[1;32m    188\u001b[0m     logger\u001b[38;5;241m.\u001b[39minfo(\u001b[38;5;124m\"\u001b[39m\u001b[38;5;124mCutout already prepared.\u001b[39m\u001b[38;5;124m\"\u001b[39m)\n\u001b[1;32m    189\u001b[0m     \u001b[38;5;28;01mreturn\u001b[39;00m cutout\n",
      "File \u001b[0;32m~/anaconda3/envs/atlite_cmip6_2025/lib/python3.13/site-packages/atlite/cutout.py:328\u001b[0m, in \u001b[0;36mCutout.prepared\u001b[0;34m(self)\u001b[0m\n\u001b[1;32m    323\u001b[0m \u001b[38;5;129m@property\u001b[39m\n\u001b[1;32m    324\u001b[0m \u001b[38;5;28;01mdef\u001b[39;00m \u001b[38;5;21mprepared\u001b[39m(\u001b[38;5;28mself\u001b[39m):\n\u001b[1;32m    325\u001b[0m \u001b[38;5;250m    \u001b[39m\u001b[38;5;124;03m\"\"\"\u001b[39;00m\n\u001b[1;32m    326\u001b[0m \u001b[38;5;124;03m    Boolean indicating whether all available features are prepared.\u001b[39;00m\n\u001b[1;32m    327\u001b[0m \u001b[38;5;124;03m    \"\"\"\u001b[39;00m\n\u001b[0;32m--> 328\u001b[0m     \u001b[38;5;28;01mreturn\u001b[39;00m \u001b[38;5;28mself\u001b[39m\u001b[38;5;241m.\u001b[39mprepared_features\u001b[38;5;241m.\u001b[39msort_index()\u001b[38;5;241m.\u001b[39mequals(\n\u001b[1;32m    329\u001b[0m         \u001b[38;5;28mself\u001b[39m\u001b[38;5;241m.\u001b[39mavailable_features\u001b[38;5;241m.\u001b[39msort_index()\n\u001b[1;32m    330\u001b[0m     )\n",
      "File \u001b[0;32m~/anaconda3/envs/atlite_cmip6_2025/lib/python3.13/site-packages/atlite/cutout.py:338\u001b[0m, in \u001b[0;36mCutout.prepared_features\u001b[0;34m(self)\u001b[0m\n\u001b[1;32m    332\u001b[0m \u001b[38;5;129m@property\u001b[39m\n\u001b[1;32m    333\u001b[0m \u001b[38;5;28;01mdef\u001b[39;00m \u001b[38;5;21mprepared_features\u001b[39m(\u001b[38;5;28mself\u001b[39m):\n\u001b[1;32m    334\u001b[0m \u001b[38;5;250m    \u001b[39m\u001b[38;5;124;03m\"\"\"\u001b[39;00m\n\u001b[1;32m    335\u001b[0m \u001b[38;5;124;03m    Get the list of prepared features in the cutout.\u001b[39;00m\n\u001b[1;32m    336\u001b[0m \u001b[38;5;124;03m    \"\"\"\u001b[39;00m\n\u001b[1;32m    337\u001b[0m     index \u001b[38;5;241m=\u001b[39m [\n\u001b[0;32m--> 338\u001b[0m         (\u001b[38;5;28mself\u001b[39m\u001b[38;5;241m.\u001b[39mdata[v]\u001b[38;5;241m.\u001b[39mattrs[\u001b[38;5;124m\"\u001b[39m\u001b[38;5;124mmodule\u001b[39m\u001b[38;5;124m\"\u001b[39m], \u001b[38;5;28mself\u001b[39m\u001b[38;5;241m.\u001b[39mdata[v]\u001b[38;5;241m.\u001b[39mattrs[\u001b[38;5;124m\"\u001b[39m\u001b[38;5;124mfeature\u001b[39m\u001b[38;5;124m\"\u001b[39m])\n\u001b[1;32m    339\u001b[0m         \u001b[38;5;28;01mfor\u001b[39;00m v \u001b[38;5;129;01min\u001b[39;00m \u001b[38;5;28mself\u001b[39m\u001b[38;5;241m.\u001b[39mdata\n\u001b[1;32m    340\u001b[0m     ]\n\u001b[1;32m    341\u001b[0m     index \u001b[38;5;241m=\u001b[39m pd\u001b[38;5;241m.\u001b[39mMultiIndex\u001b[38;5;241m.\u001b[39mfrom_tuples(index, names\u001b[38;5;241m=\u001b[39m[\u001b[38;5;124m\"\u001b[39m\u001b[38;5;124mmodule\u001b[39m\u001b[38;5;124m\"\u001b[39m, \u001b[38;5;124m\"\u001b[39m\u001b[38;5;124mfeature\u001b[39m\u001b[38;5;124m\"\u001b[39m])\n\u001b[1;32m    342\u001b[0m     \u001b[38;5;28;01mreturn\u001b[39;00m pd\u001b[38;5;241m.\u001b[39mSeries(\u001b[38;5;28mlist\u001b[39m(\u001b[38;5;28mself\u001b[39m\u001b[38;5;241m.\u001b[39mdata), index, dtype\u001b[38;5;241m=\u001b[39m\u001b[38;5;28mobject\u001b[39m)\n",
      "\u001b[0;31mKeyError\u001b[0m: 'module'"
     ]
    }
   ],
   "source": [
    "cutout.prepare()"
   ]
  }
 ],
 "metadata": {
  "kernelspec": {
   "display_name": "atlite_cmip6_2025",
   "language": "python",
   "name": "python3"
  },
  "language_info": {
   "codemirror_mode": {
    "name": "ipython",
    "version": 3
   },
   "file_extension": ".py",
   "mimetype": "text/x-python",
   "name": "python",
   "nbconvert_exporter": "python",
   "pygments_lexer": "ipython3",
   "version": "3.13.1"
  }
 },
 "nbformat": 4,
 "nbformat_minor": 2
}
